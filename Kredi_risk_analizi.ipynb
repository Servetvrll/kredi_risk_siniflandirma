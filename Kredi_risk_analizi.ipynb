
import numpy as np
import pandas as pd
import matplotlib.pyplot as plt
import seaborn as sns

data = pd.read_csv("/content/drive/MyDrive/Colab Notebooks/credit_risk_dataset/credit_risk_dataset.csv")

print(data.head())
print("---------------------")
print(data.info())
print("---------------------")
print(data.describe())
print("---------------------")
print(data.isnull().sum())
print("---------------------")
sayac = 0
# veride 4105 adet person_emp_length de 0 a eşit veri var
# 30 dan büyük 9 değer var

for i in range(len(data["person_emp_length"])):
  if data["person_emp_length"][i] == 123:
    print(i)
    print(data["person_emp_length"][i])
print(f"person_emp_length == {sayac}")
print("---------------------")

for i in range(len(data["person_age"])):
  if data["person_age"][i] > 60:
    sayac+=1
    print(data["person_age"][i])
print(f"person_age == {sayac}")
print("---------------------")

## 0 ve 210. indexte 123 değerleri var bunları ay olrak düşünüp 10 yıla eşitliyorum
data["person_emp_length"][0], data["person_emp_length"][210] = 10, 10
print(data["person_emp_length"][0], data["person_emp_length"][210])
print("---------------------")




plt.figure(figsize=(18,8))
plt.subplot(2,3,1)
sns.distplot(data["person_income"])
plt.subplot(2,3,2)
sns.distplot(data["person_age"])
plt.subplot(2,3,3)
sns.distplot(data["person_emp_length"])
plt.subplot(2,3,4)
sns.distplot(data["loan_amnt"])
plt.subplot(2,3,5)
sns.distplot(data["loan_int_rate"])
plt.subplot(2,3,6)
sns.distplot(data["loan_percent_income"])
plt.show()
