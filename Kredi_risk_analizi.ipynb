{
  "nbformat": 4,
  "nbformat_minor": 0,
  "metadata": {
    "colab": {
      "provenance": [],
      "name": "Kredi_risk_analizi.ipynb",
      "mount_file_id": "1y1un2tOUG5VZ903BTXRg7lS3v0g-5GXf",
      "authorship_tag": "ABX9TyN/94p94isR+xgZGpG72ewa",
      "include_colab_link": true
    },
    "kernelspec": {
      "name": "python3",
      "display_name": "Python 3"
    },
    "language_info": {
      "name": "python"
    }
  },
  "cells": [
    {
      "cell_type": "markdown",
      "metadata": {
        "id": "view-in-github",
        "colab_type": "text"
      },
      "source": [
        "<a href=\"https://colab.research.google.com/github/Servetvrll/kredi_risk_siniflandirma/blob/veri-on-isleme/Kredi_risk_analizi.ipynb\" target=\"_parent\"><img src=\"https://colab.research.google.com/assets/colab-badge.svg\" alt=\"Open In Colab\"/></a>"
      ]
    },
    {
      "cell_type": "code",
      "execution_count": null,
      "metadata": {
        "id": "HGCcLdKcxr9T"
      },
      "outputs": [],
      "source": [
        "\n",
        "import numpy as np\n",
        "import pandas as pd\n",
        "import matplotlib.pyplot as plt\n",
        "import seaborn as sns\n",
        "\n",
        "data = pd.read_csv(\"/content/drive/MyDrive/Colab Notebooks/credit_risk_dataset/credit_risk_dataset.csv\")\n",
        "\n",
        "print(data.head())\n",
        "print(\"---------------------\")\n",
        "print(data.info())\n",
        "print(\"---------------------\")\n",
        "print(data.describe())\n",
        "print(\"---------------------\")\n",
        "print(data.isnull().sum())\n",
        "print(\"---------------------\")\n",
        "sayac = 0\n",
        "# veride 4105 adet person_emp_length de 0 a eşit veri var\n",
        "# 30 dan büyük 9 değer var\n",
        "\n",
        "for i in range(len(data[\"person_emp_length\"])):\n",
        "  if data[\"person_emp_length\"][i] == 123:\n",
        "    print(i)\n",
        "    print(data[\"person_emp_length\"][i])\n",
        "print(f\"person_emp_length == {sayac}\")\n",
        "print(\"---------------------\")\n",
        "\n",
        "for i in range(len(data[\"person_age\"])):\n",
        "  if data[\"person_age\"][i] > 60:\n",
        "    sayac+=1\n",
        "    print(data[\"person_age\"][i])\n",
        "print(f\"person_age == {sayac}\")\n",
        "print(\"---------------------\")\n",
        "\n",
        "## 0 ve 210. indexte 123 değerleri var bunları ay olrak düşünüp 10 yıla eşitliyorum\n",
        "data[\"person_emp_length\"][0], data[\"person_emp_length\"][210] = 10, 10\n",
        "print(data[\"person_emp_length\"][0], data[\"person_emp_length\"][210])\n",
        "print(\"---------------------\")\n",
        "\n",
        "\n",
        "\n",
        "\n",
        "plt.figure(figsize=(18,8))\n",
        "plt.subplot(2,3,1)\n",
        "sns.distplot(data[\"person_income\"])\n",
        "plt.subplot(2,3,2)\n",
        "sns.distplot(data[\"person_age\"])\n",
        "plt.subplot(2,3,3)\n",
        "sns.distplot(data[\"person_emp_length\"])\n",
        "plt.subplot(2,3,4)\n",
        "sns.distplot(data[\"loan_amnt\"])\n",
        "plt.subplot(2,3,5)\n",
        "sns.distplot(data[\"loan_int_rate\"])\n",
        "plt.subplot(2,3,6)\n",
        "sns.distplot(data[\"loan_percent_income\"])\n",
        "plt.show()"
      ]
    }
  ]
}